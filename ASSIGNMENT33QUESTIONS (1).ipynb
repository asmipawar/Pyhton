{
 "cells": [
  {
   "cell_type": "code",
   "execution_count": null,
   "id": "8661c45c",
   "metadata": {},
   "outputs": [],
   "source": [
    "#1.Python Program to Find the Square Root.\n",
    "a=int(input(\"Enter the number to square root : \"))\n",
    "b=a**0.5\n",
    "print(b)"
   ]
  },
  {
   "cell_type": "code",
   "execution_count": null,
   "id": "5422598f",
   "metadata": {},
   "outputs": [],
   "source": [
    "# 2.Python Program to Calculate the Area of a Triangle\n",
    "b=int(input(\"Enter the base of triangle : : \"))\n",
    "h=int(input(\"Enter the height of triangle : \"))\n",
    "a=1/2*b*h\n",
    "print(a)"
   ]
  },
  {
   "cell_type": "code",
   "execution_count": 4,
   "id": "3d1ed93f",
   "metadata": {},
   "outputs": [
    {
     "name": "stdout",
     "output_type": "stream",
     "text": [
      "Enter the number for a : 88\n",
      "Enter the number for b : 77\n",
      "a : 77 b : 88\n"
     ]
    }
   ],
   "source": [
    "#3.Python Program to Swap Two Variables\n",
    "a=int(input(\"Enter the number for a : \"))\n",
    "b=int(input(\"Enter the number for b : \"))\n",
    "c=b\n",
    "b=a\n",
    "a=c\n",
    "print(\"a :\",a,\"b :\",b)"
   ]
  },
  {
   "cell_type": "code",
   "execution_count": 12,
   "id": "3b39861d",
   "metadata": {},
   "outputs": [
    {
     "name": "stdout",
     "output_type": "stream",
     "text": [
      "Enter the Kilometers to Convert in Miles : 5\n",
      "3.106855\n"
     ]
    }
   ],
   "source": [
    "#4.Python Program to Convert Kilometers to Miles .\n",
    "a=int(input(\"Enter the Kilometers to Convert in Miles : \"))\n",
    "b=a*0.621371\n",
    "print(b)"
   ]
  },
  {
   "cell_type": "code",
   "execution_count": 29,
   "id": "1fcf693e",
   "metadata": {},
   "outputs": [
    {
     "name": "stdout",
     "output_type": "stream",
     "text": [
      "Enter the Celsius to Convert in Fahrenheit : 38\n",
      "100.4\n"
     ]
    }
   ],
   "source": [
    "#5.Python Program to Convert Celsius To Fahrenheit .\n",
    "a=int(input(\"Enter the Celsius to Convert in Fahrenheit : \"))\n",
    "b=(a*9/5)+32\n",
    "print(b)"
   ]
  },
  {
   "cell_type": "code",
   "execution_count": null,
   "id": "9ec7d5e1",
   "metadata": {},
   "outputs": [],
   "source": [
    "#6.Python Program to Check if a Number is Positive, Negative or 0\n",
    "a=int(input(\"Enter the number to check number positive , negative or o : \"))\n",
    "if(a>0):\n",
    "    print(a,\"NUMBER IS POSITIVE\")\n",
    "elif(a<0):\n",
    "    print(a,\"NUMBER IS NEGATIVE\")\n",
    "else:\n",
    "    print(a,\"NUMBER IS ZERO\")"
   ]
  },
  {
   "cell_type": "code",
   "execution_count": null,
   "id": "4921f8f2",
   "metadata": {},
   "outputs": [],
   "source": [
    "#7.Python Program to Check if a Number is Odd or Even.\n",
    "a=int(input(\"Enter the number to check number is even or odd : \"))\n",
    "if(a%2==0):\n",
    "    print(a,\"IS EVEN NUMBER\")\n",
    "else:\n",
    "    print(a,\"IS ODD NUMBER\")"
   ]
  },
  {
   "cell_type": "code",
   "execution_count": null,
   "id": "83638b3e",
   "metadata": {},
   "outputs": [],
   "source": [
    "#8.Python Program to Find the Largest Among Three Numbers.\n",
    "a=int(input(\"Enter the 1st number : \"))\n",
    "b=int(input(\"Enter the 2nd number : \"))\n",
    "c=int(input(\"Enter the 3rd number : \"))\n",
    "if(a>b and a>c):\n",
    "    print(a,\"IS THE LARGEST \")\n",
    "elif(b>a and b>c):\n",
    "    print(b,\"IS THE LARGEST \")\n",
    "else:\n",
    "    print(c,\"IS THE LARGEST \")"
   ]
  },
  {
   "cell_type": "code",
   "execution_count": null,
   "id": "4a350b1f",
   "metadata": {
    "scrolled": true
   },
   "outputs": [],
   "source": [
    "#9.Python Program to Check Prime Number.\n",
    "a=int(input(\"ENTER THE RANGE TO GET THE PRIME NUMBERS : \"))\n",
    "if a<2:\n",
    "    print(\"PLEASE ENTER VALID RANGE\")\n",
    "else:\n",
    "    for i in range(2,a+1):\n",
    "        #is_prime=True\n",
    "        for j in range(2,int(i**0.5)+1):\n",
    "            if(i%j==0):\n",
    "                print(i,\"not a prime\")\n",
    "                break\n",
    "        else:\n",
    "            print(i,\" is a prime\")    "
   ]
  },
  {
   "cell_type": "code",
   "execution_count": null,
   "id": "4d34054d",
   "metadata": {},
   "outputs": [],
   "source": [
    "####10.Python Program to Print all Prime Numbers in an Interval. ####\n",
    "a=int(input(\"ENTER THE RANGE TO GET THE PRIME NUMBERS : \"))\n",
    "if a<2:\n",
    "    print(\"PLEASE ENTER VALID RANGE\")\n",
    "else:\n",
    "    for i in range(2,a+1):\n",
    "        for j in range(2,int(i**0.5)+1):\n",
    "            if(i%j==0):\n",
    "                print(i,\"not a prime\")\n",
    "                break\n",
    "        else:\n",
    "            print(i,\" is a prime\")"
   ]
  },
  {
   "cell_type": "code",
   "execution_count": null,
   "id": "e9b68e0e-fc87-483b-8faa-428c38c4aa97",
   "metadata": {},
   "outputs": [],
   "source": [
    "#11.Python Program to Find the Factorial of a Number.\n",
    "a=int(input(\"enter your number for factorial : \"))\n",
    "fact=1\n",
    "if a>0:\n",
    "    for i in range(1,a+1):\n",
    "        fact*=i\n",
    "    print(fact)"
   ]
  },
  {
   "cell_type": "code",
   "execution_count": null,
   "id": "b8e74fbc-5cab-4b99-b71f-f99c56fa4aa5",
   "metadata": {},
   "outputs": [],
   "source": [
    "#12.Python Program to Display the multiplication Table Code.\n",
    "a=int(input(\"enter the number of which you want table : \"))\n",
    "for i in range(1,11):\n",
    "    print(a,\"x\",i,\"=\",a*i)"
   ]
  },
  {
   "cell_type": "code",
   "execution_count": null,
   "id": "a11a9577-67d3-45eb-9304-9ea61e28ee21",
   "metadata": {},
   "outputs": [],
   "source": [
    "#13.Python Program to Check Armstrong Number.\n",
    "a=int(input(\"Enter number to check armstrong or not : \"))\n",
    "num_str=str(a)\n",
    "num_len=len(num_str)\n",
    "a_sum=0\n",
    "for i in num_str:\n",
    "    a_sum+=int(i)**num_len\n",
    "if a_sum==a:\n",
    "    print(a,\"number is armstrong number\")\n",
    "else:\n",
    "    print(a,\"number is not a armstrong number\")"
   ]
  },
  {
   "cell_type": "code",
   "execution_count": null,
   "id": "fc905f9f-f962-4016-b43f-c77563c377bd",
   "metadata": {},
   "outputs": [],
   "source": [
    "####14.Python Program to Find Armstrong Number in an Interval.####\n",
    "a1=int(input(\"Enter number to check armstrong or not : \"))\n",
    "for a in range(1,a1+1):\n",
    "    num_str=str(a)\n",
    "    num_len=len(num_str)\n",
    "    a_sum=0\n",
    "    for i in num_str:\n",
    "        a_sum+=int(i)**num_len\n",
    "    if a_sum==a:\n",
    "        print(a,\"number is armstrong number\")\n",
    "#     else:\n",
    "#         print(a,\"number is not a armstrong number\")"
   ]
  },
  {
   "cell_type": "code",
   "execution_count": null,
   "id": "7b9a3a3a-158c-459f-ae6b-6122bc38d6cc",
   "metadata": {},
   "outputs": [],
   "source": [
    "#15.Python Program to Find the Sum of Natural Numbers.\n",
    "a=int(input(\"Enter till you want the sum of natural numbers\"))\n",
    "sum=0\n",
    "for i in range(a+1):\n",
    "    sum+=i\n",
    "print(sum)"
   ]
  },
  {
   "cell_type": "code",
   "execution_count": null,
   "id": "9cbb1eac-ab64-4215-9b61-c61da5b39c90",
   "metadata": {},
   "outputs": [],
   "source": [
    "#16.Python Program to Find Numbers Divisible by Another Number.\n",
    "a=int(input(\"ENTER NO TO DIVIDE : \"))\n",
    "b=int(input(\"ENTER NO TO DIVIDE BY : \"))\n",
    "if a%b==0:\n",
    "    print(a,\"is divisible by\",b)\n",
    "    \n",
    "\n",
    "# for i in range(1,100+1):\n",
    "#     for j in range(1,100+1):\n",
    "#         if i%j==0:\n",
    "#             print(i,\"is Divisible by\",j)"
   ]
  },
  {
   "cell_type": "code",
   "execution_count": null,
   "id": "54f495d3",
   "metadata": {},
   "outputs": [],
   "source": [
    "#17.Python Program to Find HCF or GCD.\n",
    "a=int(input(\"enter no : \"))\n",
    "b=int(input(\"enter no : \"))\n",
    "hcf=1\n",
    "s=min(a,b)\n",
    "for i in range(2,s+1):\n",
    "    if a%i==0 and b%i==0:\n",
    "        hcf=i\n",
    "print(hcf)"
   ]
  },
  {
   "cell_type": "code",
   "execution_count": null,
   "id": "ee8c99aa",
   "metadata": {},
   "outputs": [],
   "source": [
    "#18.Python Program to Find LCM.\n",
    "a=int(input(\"enter no : \"))\n",
    "b=int(input(\"enter no : \"))\n",
    "lcm=max(a,b)\n",
    "for i in range(lcm,a*b+1,lcm):\n",
    "    if i%a==0 and i%b==0:\n",
    "        lcm=i\n",
    "        break\n",
    "print(lcm)"
   ]
  },
  {
   "cell_type": "code",
   "execution_count": null,
   "id": "2dc0cc86",
   "metadata": {},
   "outputs": [],
   "source": [
    "#19.Python Program to Check Whether a String is Palindrome or Not.\n",
    "a=input(\"ENTER STRING TO CHECK PALINDROME : \")\n",
    "b=list(a)\n",
    "if b==b[::-1]:\n",
    "    print(a,\"palindrome\")\n",
    "else:\n",
    "    print(a,\"is not palindrome\")"
   ]
  },
  {
   "cell_type": "code",
   "execution_count": null,
   "id": "c97a5cb9",
   "metadata": {},
   "outputs": [],
   "source": [
    "#20.Python Program to Remove Punctuations From a String.\n",
    "a=\"python , is not , only! sanke\"\n",
    "punc=\"\"\"!;:,.@#$%^&*(){}[]\"'\"\"\"\n",
    "b=\"\"\n",
    "for i in a:\n",
    "    if i not in punc:\n",
    "        b+=i\n",
    "print(b)"
   ]
  },
  {
   "cell_type": "code",
   "execution_count": null,
   "id": "3327a827",
   "metadata": {},
   "outputs": [],
   "source": [
    "#21.Python Program to Sort Words in Alphabetic Order.\n",
    "a=\"Python is an interpreted , object-oriented, high-level; programming language\"\n",
    "b=\"\".join(sorted(a))\n",
    "print(b)"
   ]
  },
  {
   "cell_type": "code",
   "execution_count": null,
   "id": "5ef03965",
   "metadata": {},
   "outputs": [],
   "source": [
    "# 22.Python Program to Illustrate Different Set Operations\n",
    "# (update,add,issubset,isdisjoin,intersection,union etc)\n",
    "a={1,2,3,4,5}\n",
    "b={5,6,7,8,9}\n",
    "c=a.isdisjoint(b)\n",
    "print(c)\n",
    "a.update(b)\n",
    "print(a)\n",
    "a.add(10)\n",
    "print(a)\n",
    "print(b.issubset(a))\n",
    "print(a.intersection(b))\n",
    "print(a.union(b))\n",
    "a.remove(1)\n",
    "print(a)\n",
    "a.discard(5)\n",
    "print(a)\n",
    "a.clear()\n",
    "print(a)\n"
   ]
  },
  {
   "cell_type": "code",
   "execution_count": null,
   "id": "983565ed",
   "metadata": {},
   "outputs": [],
   "source": [
    "#23.Python Program to Count the Number of Each Vowel.\n",
    "a=\"Python is an interpreted , object-oriented, high-level; programming language\"\n",
    "b=\"aeiouAEIOU\"\n",
    "for i in b:\n",
    "    print(i,a.count(i))"
   ]
  },
  {
   "cell_type": "code",
   "execution_count": null,
   "id": "32f06275",
   "metadata": {},
   "outputs": [],
   "source": [
    "#24.Python program to interchange first and last elements in a list.\n",
    "a=[1,2,3,4,5,6,7,8,9]\n",
    "a[0],a[-1]=a[-1],a[0]\n",
    "print(a)"
   ]
  },
  {
   "cell_type": "code",
   "execution_count": null,
   "id": "27d5fed4",
   "metadata": {},
   "outputs": [],
   "source": [
    "#25.Python program to find smallest number in a list.\n",
    "a=[1,2,3,4,5,6,7,8,9]\n",
    "print(min(a))"
   ]
  },
  {
   "cell_type": "code",
   "execution_count": null,
   "id": "b48ef438",
   "metadata": {},
   "outputs": [],
   "source": [
    "#26.Python program to find largest number in a list.\n",
    "a=[1,2,3,4,5,6,7,8,9]\n",
    "print(max(a))"
   ]
  },
  {
   "cell_type": "code",
   "execution_count": 1,
   "id": "40c99d23",
   "metadata": {},
   "outputs": [
    {
     "name": "stdout",
     "output_type": "stream",
     "text": [
      "ENTER THE RANGE YOU WANT : 5\n",
      "1\n",
      "2\n",
      "3\n",
      "4\n",
      "5\n"
     ]
    }
   ],
   "source": [
    "#27.Python program to print all positive numbers in a range.\n",
    "# a=[-9,-8,-7,-6,-5,-4,-3,-2,-1,0,1,2,3,4,5,6,7,8,9]\n",
    "# for i in a:\n",
    "#     if i>0:\n",
    "#         print(i)\n",
    "a=int(input(\"ENTER THE RANGE YOU WANT : \"))\n",
    "for i in range(1,a+1):\n",
    "    print(i)"
   ]
  },
  {
   "cell_type": "code",
   "execution_count": 30,
   "id": "1e08a25d",
   "metadata": {},
   "outputs": [
    {
     "name": "stdout",
     "output_type": "stream",
     "text": [
      "ENTER THE RANGE YOU WANT : -20\n",
      "-20\n",
      "-19\n",
      "-18\n",
      "-17\n",
      "-16\n",
      "-15\n",
      "-14\n",
      "-13\n",
      "-12\n",
      "-11\n",
      "-10\n",
      "-9\n",
      "-8\n",
      "-7\n",
      "-6\n",
      "-5\n",
      "-4\n",
      "-3\n",
      "-2\n",
      "-1\n",
      "0\n"
     ]
    }
   ],
   "source": [
    "#29.Python program to print all negative numbers in a range.\n",
    "a=int(input(\"ENTER THE RANGE YOU WANT : \"))\n",
    "for i in range(a,1):\n",
    "    print(i)"
   ]
  },
  {
   "cell_type": "code",
   "execution_count": 13,
   "id": "25433af3",
   "metadata": {},
   "outputs": [
    {
     "name": "stdout",
     "output_type": "stream",
     "text": [
      "8\n",
      "9\n",
      "4\n",
      "5\n"
     ]
    }
   ],
   "source": [
    "# 30.Program to print duplicates from a list of integers.\n",
    "# (take any duplicate element in list)\n",
    "a=[0,1,2,3,4,5,6,7,8,9,8,9,4,5]\n",
    "b=[]\n",
    "for i in a:\n",
    "    if i not in b:\n",
    "        b.append(i)\n",
    "    else:\n",
    "        print(i)"
   ]
  },
  {
   "cell_type": "code",
   "execution_count": 21,
   "id": "b61f557a",
   "metadata": {},
   "outputs": [
    {
     "name": "stdout",
     "output_type": "stream",
     "text": [
      "[11, 5, 17, 18, 23, 50]\n",
      "[11, 50]\n",
      "[]\n"
     ]
    }
   ],
   "source": [
    "#31.Remove multiple elements from a list in Python.(11,5,17,18,23,50)\n",
    "a=[11,5,17,18,23,50]\n",
    "print(a)\n",
    "del a[1:5]\n",
    "print(a)\n",
    "a.clear()\n",
    "print(a)"
   ]
  },
  {
   "cell_type": "code",
   "execution_count": 26,
   "id": "59daf488",
   "metadata": {},
   "outputs": [
    {
     "name": "stdout",
     "output_type": "stream",
     "text": [
      "[1, 4, 9, 16, 25, 36, 49]\n"
     ]
    }
   ],
   "source": [
    "#32.Given a Python list of numbers. Turn every item of a list into its square Given:\n",
    "List = [1, 2, 3, 4, 5, 6, 7]\n",
    "l1=[]\n",
    "for i in List:\n",
    "    i*=i\n",
    "    l1.append(i)\n",
    "print(l1)"
   ]
  },
  {
   "cell_type": "code",
   "execution_count": 27,
   "id": "4e9c25ce",
   "metadata": {},
   "outputs": [
    {
     "name": "stdout",
     "output_type": "stream",
     "text": [
      "[10, 20, 30, 40] [400, 300, 200, 100]\n"
     ]
    }
   ],
   "source": [
    "# 33.Given a two Python list. Iterate both lists simultaneously such that\n",
    "# list1 should display item in original order and list2 in reverse order.\n",
    "list1=[10,20,30,40]\n",
    "list2=[100,200,300,400]\n",
    "\n",
    "print(list1,list2[::-1])"
   ]
  }
 ],
 "metadata": {
  "kernelspec": {
   "display_name": "Python 3 (ipykernel)",
   "language": "python",
   "name": "python3"
  },
  "language_info": {
   "codemirror_mode": {
    "name": "ipython",
    "version": 3
   },
   "file_extension": ".py",
   "mimetype": "text/x-python",
   "name": "python",
   "nbconvert_exporter": "python",
   "pygments_lexer": "ipython3",
   "version": "3.11.4"
  }
 },
 "nbformat": 4,
 "nbformat_minor": 5
}
